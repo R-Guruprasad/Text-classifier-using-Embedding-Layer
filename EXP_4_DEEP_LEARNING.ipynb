{
  "nbformat": 4,
  "nbformat_minor": 0,
  "metadata": {
    "colab": {
      "provenance": []
    },
    "kernelspec": {
      "name": "python3",
      "display_name": "Python 3"
    },
    "language_info": {
      "name": "python"
    }
  },
  "cells": [
    {
      "cell_type": "code",
      "execution_count": null,
      "metadata": {
        "id": "_gZihzubKfEu"
      },
      "outputs": [],
      "source": [
        "#Text classifier using Embedding Layer"
      ]
    },
    {
      "cell_type": "code",
      "source": [
        "import tensorflow as tf\n",
        "import numpy as np\n",
        "import matplotlib.pyplot as plt"
      ],
      "metadata": {
        "id": "xCf_afsnLvJN"
      },
      "execution_count": null,
      "outputs": []
    },
    {
      "cell_type": "code",
      "source": [
        "#To unzip and read the csv file inside the zip file\n",
        "\n",
        "import zipfile\n",
        "\n",
        "with zipfile.ZipFile('/content/BBC News Train.csv.zip', 'r') as zip_ref:\n",
        "    zip_ref.extractall('extracted_data')"
      ],
      "metadata": {
        "id": "P7Qls1qAMDv9"
      },
      "execution_count": null,
      "outputs": []
    },
    {
      "cell_type": "code",
      "source": [
        "with open(\"/content/BBC News Train.csv\", 'r') as csvfile:\n",
        "    print(f\"First line (header) looks like this:\\n\\n{csvfile.readline()}\")\n",
        "    print(f\"The second line (first data point) looks like this:\\n\\n{csvfile.readline()}\")"
      ],
      "metadata": {
        "id": "2JW2X0jlMJr1",
        "colab": {
          "base_uri": "https://localhost:8080/"
        },
        "outputId": "a1ef6c9b-7511-4a78-deb7-d9c282eabef7"
      },
      "execution_count": null,
      "outputs": [
        {
          "output_type": "stream",
          "name": "stdout",
          "text": [
            "First line (header) looks like this:\n",
            "\n",
            "ArticleId,Text,Category\n",
            "\n",
            "The second line (first data point) looks like this:\n",
            "\n",
            "1833,worldcom ex-boss launches defence lawyers defending former worldcom chief bernie ebbers against a battery of fraud charges have called a company whistleblower as their first witness.  cynthia cooper  worldcom s ex-head of internal accounting  alerted directors to irregular accounting practices at the us telecoms giant in 2002. her warnings led to the collapse of the firm following the discovery of an $11bn (£5.7bn) accounting fraud. mr ebbers has pleaded not guilty to charges of fraud and conspiracy.  prosecution lawyers have argued that mr ebbers orchestrated a series of accounting tricks at worldcom  ordering employees to hide expenses and inflate revenues to meet wall street earnings estimates. but ms cooper  who now runs her own consulting business  told a jury in new york on wednesday that external auditors arthur andersen had approved worldcom s accounting in early 2001 and 2002. she said andersen had given a  green light  to the procedures and practices used by worldcom. mr ebber s lawyers have said he was unaware of the fraud  arguing that auditors did not alert him to any problems.  ms cooper also said that during shareholder meetings mr ebbers often passed over technical questions to the company s finance chief  giving only  brief  answers himself. the prosecution s star witness  former worldcom financial chief scott sullivan  has said that mr ebbers ordered accounting adjustments at the firm  telling him to  hit our books . however  ms cooper said mr sullivan had not mentioned  anything uncomfortable  about worldcom s accounting during a 2001 audit committee meeting. mr ebbers could face a jail sentence of 85 years if convicted of all the charges he is facing. worldcom emerged from bankruptcy protection in 2004  and is now known as mci. last week  mci agreed to a buyout by verizon communications in a deal valued at $6.75bn.,business\n",
            "\n"
          ]
        }
      ]
    },
    {
      "cell_type": "code",
      "source": [
        "  # Define the global variables\n",
        "VOCAB_SIZE =1000\n",
        "EMBEDDING_DIM =16\n",
        "MAX_LENGTH =120\n",
        "TRAINING_SPLIT = 0.8"
      ],
      "metadata": {
        "id": "RDyxF7KkMa4F"
      },
      "execution_count": null,
      "outputs": []
    },
    {
      "cell_type": "markdown",
      "source": [
        "## Loading and pre-processing the data"
      ],
      "metadata": {
        "id": "UwRf-s2ZOB5F"
      }
    },
    {
      "cell_type": "code",
      "source": [
        "data_dir = \"/content/BBC News Train.csv\"\n",
        "data = np.loadtxt(data_dir, delimiter=',', skiprows=1, dtype='str', comments=None)\n",
        "print(f\"Shape of the data: {data.shape}\")\n",
        "print(f\"{data[0]}\\n{data[1]}\")"
      ],
      "metadata": {
        "id": "ghRw-Iu1OG29",
        "colab": {
          "base_uri": "https://localhost:8080/"
        },
        "outputId": "cea53fca-a3c5-4f1e-a673-f6892ac827ca"
      },
      "execution_count": null,
      "outputs": [
        {
          "output_type": "stream",
          "name": "stdout",
          "text": [
            "Shape of the data: (1490, 3)\n",
            "['1833'\n",
            " 'worldcom ex-boss launches defence lawyers defending former worldcom chief bernie ebbers against a battery of fraud charges have called a company whistleblower as their first witness.  cynthia cooper  worldcom s ex-head of internal accounting  alerted directors to irregular accounting practices at the us telecoms giant in 2002. her warnings led to the collapse of the firm following the discovery of an $11bn (£5.7bn) accounting fraud. mr ebbers has pleaded not guilty to charges of fraud and conspiracy.  prosecution lawyers have argued that mr ebbers orchestrated a series of accounting tricks at worldcom  ordering employees to hide expenses and inflate revenues to meet wall street earnings estimates. but ms cooper  who now runs her own consulting business  told a jury in new york on wednesday that external auditors arthur andersen had approved worldcom s accounting in early 2001 and 2002. she said andersen had given a  green light  to the procedures and practices used by worldcom. mr ebber s lawyers have said he was unaware of the fraud  arguing that auditors did not alert him to any problems.  ms cooper also said that during shareholder meetings mr ebbers often passed over technical questions to the company s finance chief  giving only  brief  answers himself. the prosecution s star witness  former worldcom financial chief scott sullivan  has said that mr ebbers ordered accounting adjustments at the firm  telling him to  hit our books . however  ms cooper said mr sullivan had not mentioned  anything uncomfortable  about worldcom s accounting during a 2001 audit committee meeting. mr ebbers could face a jail sentence of 85 years if convicted of all the charges he is facing. worldcom emerged from bankruptcy protection in 2004  and is now known as mci. last week  mci agreed to a buyout by verizon communications in a deal valued at $6.75bn.'\n",
            " 'business']\n",
            "['154'\n",
            " 'german business confidence slides german business confidence fell in february knocking hopes of a speedy recovery in europe s largest economy.  munich-based research institute ifo said that its confidence index fell to 95.5 in february from 97.5 in january  its first decline in three months. the study found that the outlook in both the manufacturing and retail sectors had worsened. observers had been hoping that a more confident business sector would signal that economic activity was picking up.   we re surprised that the ifo index has taken such a knock   said dz bank economist bernd weidensteiner.  the main reason is probably that the domestic economy is still weak  particularly in the retail trade.  economy and labour minister wolfgang clement called the dip in february s ifo confidence figure  a very mild decline . he said that despite the retreat  the index remained at a relatively high level and that he expected  a modest economic upswing  to continue.  germany s economy grew 1.6% last year after shrinking in 2003. however  the economy contracted by 0.2% during the last three months of 2004  mainly due to the reluctance of consumers to spend. latest indications are that growth is still proving elusive and ifo president hans-werner sinn said any improvement in german domestic demand was sluggish. exports had kept things going during the first half of 2004  but demand for exports was then hit as the value of the euro hit record levels making german products less competitive overseas. on top of that  the unemployment rate has been stuck at close to 10% and manufacturing firms  including daimlerchrysler  siemens and volkswagen  have been negotiating with unions over cost cutting measures. analysts said that the ifo figures and germany s continuing problems may delay an interest rate rise by the european central bank. eurozone interest rates are at 2%  but comments from senior officials have recently focused on the threat of inflation  prompting fears that interest rates may rise.'\n",
            " 'business']\n"
          ]
        }
      ]
    },
    {
      "cell_type": "code",
      "source": [
        "# Test the function\n",
        "print(f\"There are {len(data)} sentence-label pairs in the dataset.\\n\")\n",
        "print(f\"First sentence has {len((data[0,1]).split())} words.\\n\")\n",
        "print(f\"The first 5 labels are {data[:5,2]}\")"
      ],
      "metadata": {
        "id": "y4mHSHyVOazd",
        "colab": {
          "base_uri": "https://localhost:8080/"
        },
        "outputId": "8a8efaad-ef50-450a-e421-39bf29c4f60d"
      },
      "execution_count": 27,
      "outputs": [
        {
          "output_type": "stream",
          "name": "stdout",
          "text": [
            "There are 1490 sentence-label pairs in the dataset.\n",
            "\n",
            "First sentence has 301 words.\n",
            "\n",
            "The first 5 labels are ['business' 'business' 'business' 'tech' 'business']\n"
          ]
        }
      ]
    },
    {
      "cell_type": "markdown",
      "metadata": {
        "id": "polished-eagle"
      },
      "source": [
        "## Training - Validation Datasets\n",
        "\n",
        "Now you will code the `train_val_datasets` function, which, given the `data` DataFrame, should return the training and validation datasets, consisting of `(text, label)` pairs. For this last part, you will be using the [tf.data.Dataset.from_tensor_slices](https://www.tensorflow.org/api_docs/python/tf/data/Dataset#from_tensor_slices) method."
      ]
    },
    {
      "cell_type": "code",
      "source": [
        "# train_val_datasets\n",
        "def train_val_datasets(data,train_split=0.8):\n",
        "    '''\n",
        "    Splits data into traning and validations sets\n",
        "\n",
        "    Args:\n",
        "        data (np.array): array with two columns, first one is the label, the second is the text\n",
        "\n",
        "    Returns:\n",
        "        (tf.data.Dataset, tf.data.Dataset): tuple containing the train and validation datasets\n",
        "    '''\n",
        "   ### START CODE HERE ###\n",
        "\n",
        "    # Compute the number of samples that will be used for training\n",
        "    train_size =int(len(data)*train_split)\n",
        "\n",
        "    # Slice the dataset to get only the texts and labels\n",
        "    texts =data[:,1]\n",
        "    labels =data[:,2]\n",
        "\n",
        "    # Split the texts and labels into train/validation splits\n",
        "    train_texts =texts[:train_size]\n",
        "    validation_texts =texts[train_size:]\n",
        "    train_labels =labels[:train_size]\n",
        "    validation_labels =labels[train_size:]\n",
        "\n",
        "    # Create the train and validation datasets from the splits\n",
        "    train_dataset = tf.data.Dataset.from_tensor_slices((train_texts, train_labels))\n",
        "    validation_dataset =tf.data.Dataset.from_tensor_slices((validation_texts, validation_labels))\n",
        "\n",
        "    ### END CODE HERE ###\n",
        "    return train_dataset, validation_dataset,"
      ],
      "metadata": {
        "id": "ablWQ69vOv7W"
      },
      "execution_count": 87,
      "outputs": []
    },
    {
      "cell_type": "code",
      "source": [
        "# Create the datasets\n",
        "train_dataset, validation_dataset = train_val_datasets(data)\n",
        "print('Name: R Guruprasad Register Number: 212222240033   ')\n",
        "print(f\"There are {train_dataset.cardinality()} sentence-label pairs for training.\\n\")\n",
        "print(f\"There are {validation_dataset.cardinality()} sentence-label pairs for validation.\\n\")"
      ],
      "metadata": {
        "id": "deuClmbFObsc",
        "colab": {
          "base_uri": "https://localhost:8080/"
        },
        "outputId": "23e45ed7-b8eb-4178-b3ea-118f07d35326"
      },
      "execution_count": 88,
      "outputs": [
        {
          "output_type": "stream",
          "name": "stdout",
          "text": [
            "Name: R Guruprasad Register Number: 212222240033   \n",
            "There are 1192 sentence-label pairs for training.\n",
            "\n",
            "There are 298 sentence-label pairs for validation.\n",
            "\n"
          ]
        }
      ]
    },
    {
      "cell_type": "markdown",
      "source": [
        "## Vectorization - Sequences and padding"
      ],
      "metadata": {
        "id": "0NP8gNmaP65c"
      }
    },
    {
      "cell_type": "code",
      "source": [
        "def standardize_func(sentence):\n",
        "    \"\"\"\n",
        "    Removes a list of stopwords\n",
        "\n",
        "    Args:\n",
        "        sentence (tf.string): sentence to remove the stopwords from\n",
        "\n",
        "    Returns:\n",
        "        sentence (tf.string): lowercase sentence without the stopwords\n",
        "    \"\"\"\n",
        "    # List of stopwords\n",
        "    stopwords = [\"a\", \"about\", \"above\", \"after\", \"again\", \"against\", \"all\", \"am\", \"an\", \"and\", \"any\", \"are\", \"as\", \"at\", \"be\", \"because\", \"been\", \"before\", \"being\", \"below\", \"between\", \"both\", \"but\", \"by\", \"could\", \"did\", \"do\", \"does\", \"doing\", \"down\", \"during\", \"each\", \"few\", \"for\", \"from\", \"further\", \"had\", \"has\", \"have\", \"having\", \"he\", \"her\", \"here\",  \"hers\", \"herself\", \"him\", \"himself\", \"his\", \"how\",  \"i\", \"if\", \"in\", \"into\", \"is\", \"it\", \"its\", \"itself\", \"let's\", \"me\", \"more\", \"most\", \"my\", \"myself\", \"nor\", \"of\", \"on\", \"once\", \"only\", \"or\", \"other\", \"ought\", \"our\", \"ours\", \"ourselves\", \"out\", \"over\", \"own\", \"same\", \"she\",  \"should\", \"so\", \"some\", \"such\", \"than\", \"that\",  \"the\", \"their\", \"theirs\", \"them\", \"themselves\", \"then\", \"there\", \"these\", \"they\", \"this\", \"those\", \"through\", \"to\", \"too\", \"under\", \"until\", \"up\", \"very\", \"was\", \"we\",  \"were\", \"what\",  \"when\", \"where\", \"which\", \"while\", \"who\", \"whom\", \"why\", \"why\", \"with\", \"would\", \"you\",  \"your\", \"yours\", \"yourself\", \"yourselves\", \"'m\",  \"'d\", \"'ll\", \"'re\", \"'ve\", \"'s\", \"'d\"]\n",
        "\n",
        "    # Sentence converted to lowercase-only\n",
        "    sentence = tf.strings.lower(sentence)\n",
        "\n",
        "    # Remove stopwords\n",
        "    for word in stopwords:\n",
        "        if word[0] == \"'\":\n",
        "            sentence = tf.strings.regex_replace(sentence, rf\"{word}\\b\", \"\")\n",
        "        else:\n",
        "            sentence = tf.strings.regex_replace(sentence, rf\"\\b{word}\\b\", \"\")\n",
        "\n",
        "    # Remove punctuation\n",
        "    sentence = tf.strings.regex_replace(sentence, r'[!\"#$%&()\\*\\+,-\\./:;<=>?@\\[\\\\\\]^_`{|}~\\']', \"\")\n",
        "\n",
        "\n",
        "    return sentence"
      ],
      "metadata": {
        "id": "H6iPrw5tP_PN"
      },
      "execution_count": 89,
      "outputs": []
    },
    {
      "cell_type": "markdown",
      "source": [
        "## 2. fit_vectorizer\n",
        "Next complete the fit_vectorizer function below. This function should return a TextVectorization layer that has already been fitted on the training sentences. The vocabulary learned by the vectorizer should have VOCAB_SIZE size, and truncate the output sequences to have MAX_LENGTH length.\n",
        "\n",
        "Remember to use the custom function standardize_func to standardize each sentence in the vectorizer. You can do this by passing the function to the standardize parameter of TextVectorization."
      ],
      "metadata": {
        "id": "Exs2-mJWQOP1"
      }
    },
    {
      "cell_type": "code",
      "execution_count": 90,
      "metadata": {
        "deletable": false,
        "lines_to_next_cell": 2,
        "tags": [
          "graded"
        ],
        "id": "recreational-prince"
      },
      "outputs": [],
      "source": [
        "# GRADED FUNCTION: fit_vectorizer\n",
        "def fit_vectorizer(train_sentences, standardize_func):\n",
        "    '''\n",
        "    Defines and adapts the text vectorizer\n",
        "\n",
        "    Args:\n",
        "        train_sentences (tf.data.Dataset): sentences from the train dataset to fit the TextVectorization layer\n",
        "        standardize_func (FunctionType): function to remove stopwords and punctuation, and lowercase texts.\n",
        "    Returns:\n",
        "        TextVectorization: adapted instance of TextVectorization layer\n",
        "    '''\n",
        "    ### START CODE HERE ###\n",
        "\n",
        "    # If train_sentences is a NumPy array, convert it to a TensorFlow Dataset\n",
        "\n",
        "\n",
        "    # Initialize the TextVectorization layer\n",
        "    vectorizer =tf.keras.layers.TextVectorization(\n",
        "        standardize=standardize_func,\n",
        "        max_tokens=VOCAB_SIZE,\n",
        "        output_sequence_length=MAX_LENGTH\n",
        "    )\n",
        "\n",
        "\n",
        "    # Adapt the vectorizer to the training sentences\n",
        "    vectorizer.adapt(train_sentences)\n",
        "\n",
        "    ### END CODE HERE ###\n",
        "\n",
        "    return vectorizer"
      ]
    },
    {
      "cell_type": "code",
      "source": [
        "# Create the vectorizer\n",
        "text_only_dataset = train_dataset.map(lambda text, label: text)\n",
        "vectorizer = fit_vectorizer(text_only_dataset, standardize_func)\n",
        "vocab_size = vectorizer.vocabulary_size()\n",
        "print('Name: R Guruprasad Register Number: 212222240033  ')\n",
        "print(f\"Vocabulary contains {vocab_size} words\\n\")"
      ],
      "metadata": {
        "id": "ND496KNuPrkV",
        "colab": {
          "base_uri": "https://localhost:8080/"
        },
        "outputId": "b3a1fbca-76bd-4db9-ae11-901451898f6e"
      },
      "execution_count": 91,
      "outputs": [
        {
          "output_type": "stream",
          "name": "stdout",
          "text": [
            "Name: R Guruprasad Register Number: 212222240033  \n",
            "Vocabulary contains 1000 words\n",
            "\n"
          ]
        }
      ]
    },
    {
      "cell_type": "markdown",
      "source": [],
      "metadata": {
        "id": "H25lRAUWRnXl"
      }
    },
    {
      "cell_type": "markdown",
      "metadata": {
        "id": "familiar-reform"
      },
      "source": [
        "### 3. fit_label_encoder\n",
        "\n",
        "Remember your categories are also text labels, so you need to encode the labels as well. For this complete the `tokenize_labels` function below.\n",
        "\n",
        "- Use the function [`tf.keras.layers.StringLookup`](https://www.tensorflow.org/api_docs/python/tf/keras/layers/StringLookup) to encode the labels. Use the correct parameters so that you don't include any OOV tokens.\n",
        "- You should fit the tokenizer to all the labels to avoid the case of a particular label not being present in the validation set. Since you are dealing with labels there should never be an OOV label. For this, you can concatenate the two datasets using the [`concatenate`](https://www.tensorflow.org/api_docs/python/tf/data/Dataset#concatenate) method from `tf.data.Dataset` objects."
      ]
    },
    {
      "cell_type": "code",
      "source": [
        "# GRADED FUNCTION: fit_label_encoder\n",
        "def fit_label_encoder(train_labels, validation_labels):\n",
        "    \"\"\"Creates an instance of a StringLookup, and trains it on all labels\n",
        "\n",
        "    Args:\n",
        "        train_labels (tf.data.Dataset): dataset of train labels\n",
        "        validation_labels (tf.data.Dataset): dataset of validation labels\n",
        "\n",
        "    Returns:\n",
        "        tf.keras.layers.StringLookup: adapted encoder for train and validation labels\n",
        "    \"\"\"\n",
        "    ### START CODE HERE ###\n",
        "\n",
        "    # Join the two label datasets by concatenating them\n",
        "    labels=train_labels.concatenate(validation_labels)\n",
        "\n",
        "    # Instantiate the StringLookup layer. We set mask_token=None and num_oov_indices=0 to avoid OOV tokens\n",
        "    label_encoder=tf.keras.layers.StringLookup(mask_token=None,num_oov_indices=0)\n",
        "\n",
        "    # Fit the StringLookup layer on the concatenated labels\n",
        "    label_encoder.adapt(labels)\n",
        "\n",
        "    ### END CODE HERE ###\n",
        "\n",
        "    return label_encoder"
      ],
      "metadata": {
        "id": "BBTNcNKwRxQE"
      },
      "execution_count": 92,
      "outputs": []
    },
    {
      "cell_type": "code",
      "source": [
        "# Create the label encoder\n",
        "train_labels_only = train_dataset.map(lambda text, label: label)\n",
        "validation_labels_only = validation_dataset.map(lambda text, label: label)\n",
        "\n",
        "label_encoder = fit_label_encoder(train_labels_only,validation_labels_only)\n",
        "print('Name:R Guruprasad Register Number: 212222240033')\n",
        "print(f'Unique labels: {label_encoder.get_vocabulary()}')"
      ],
      "metadata": {
        "id": "NzAx1s0BSF3M",
        "colab": {
          "base_uri": "https://localhost:8080/"
        },
        "outputId": "358f87e3-990d-413e-8238-05fd2b453ce6"
      },
      "execution_count": 93,
      "outputs": [
        {
          "output_type": "stream",
          "name": "stdout",
          "text": [
            "Name:R Guruprasad Register Number: 212222240033\n",
            "Unique labels: ['sport', 'business', 'politics', 'entertainment', 'tech']\n"
          ]
        }
      ]
    },
    {
      "cell_type": "markdown",
      "source": [],
      "metadata": {
        "id": "iL8Wb4uASMsF"
      }
    },
    {
      "cell_type": "markdown",
      "metadata": {
        "id": "sweet-sentence"
      },
      "source": [
        "### 4. preprocess_dataset\n",
        "\n",
        "Now that you have trained the vectorizer for the texts and the encoder for the labels, it's time for you to actually transform the dataset. For this complete the `preprocess_dataset` function below.\n",
        "Use this function to set the dataset batch size to 32\n",
        "\n",
        "- You can apply the preprocessing to each pair or text and label by using the [`.map`]method.\n",
        "- You can set the batchsize to any Dataset by using the [`.batch`] method."
      ]
    },
    {
      "cell_type": "code",
      "source": [
        "# GRADED FUNCTION: preprocess_dataset\n",
        "def preprocess_dataset(dataset, text_vectorizer, label_encoder):\n",
        "    \"\"\"Apply the preprocessing to a dataset\n",
        "\n",
        "    Args:\n",
        "        dataset (tf.data.Dataset): dataset to preprocess\n",
        "        text_vectorizer (tf.keras.layers.TextVectorization ): text vectorizer\n",
        "        label_encoder (tf.keras.layers.StringLookup): label encoder\n",
        "\n",
        "    Returns:\n",
        "        tf.data.Dataset: transformed dataset\n",
        "    \"\"\"\n",
        "\n",
        "      ### START CODE HERE ###\n",
        "\n",
        "    # Apply text vectorization and label encoding\n",
        "    dataset = dataset.map(lambda x, y: (text_vectorizer(x), label_encoder(y)))\n",
        "    dataset = dataset.batch(32) # Set a batchsize of 32\n",
        "    # Set the batch size to 32\n",
        "\n",
        "\n",
        "    ### END CODE HERE ###\n",
        "\n",
        "    return dataset"
      ],
      "metadata": {
        "id": "cZGLqYQGSf4M"
      },
      "execution_count": 94,
      "outputs": []
    },
    {
      "cell_type": "code",
      "source": [
        "# Preprocess your dataset\n",
        "train_proc_dataset = preprocess_dataset(train_dataset, vectorizer, label_encoder)\n",
        "validation_proc_dataset = preprocess_dataset(validation_dataset, vectorizer, label_encoder)"
      ],
      "metadata": {
        "id": "ACLhQOe_SoM8"
      },
      "execution_count": 95,
      "outputs": []
    },
    {
      "cell_type": "code",
      "source": [
        "train_batch = next(train_proc_dataset.as_numpy_iterator())\n",
        "validation_batch = next(validation_proc_dataset.as_numpy_iterator())\n",
        "print('Name: R Guruprasad Register Number:212222240033')\n",
        "print(f\"Shape of the train batch: {train_batch[0].shape}\")\n",
        "print(f\"Shape of the validation batch: {validation_batch[0].shape}\")"
      ],
      "metadata": {
        "id": "gt1skObIStCL",
        "colab": {
          "base_uri": "https://localhost:8080/"
        },
        "outputId": "6cac0022-e422-449b-efa9-5b1f87377573"
      },
      "execution_count": 96,
      "outputs": [
        {
          "output_type": "stream",
          "name": "stdout",
          "text": [
            "Name: R Guruprasad Register Number:212222240033\n",
            "Shape of the train batch: (32, 120)\n",
            "Shape of the validation batch: (32, 120)\n"
          ]
        }
      ]
    },
    {
      "cell_type": "markdown",
      "source": [
        "## 5: create_model\n",
        "Define the model that will classify each text as being part of a certain category.\n",
        "\n",
        "The last layer should be a Dense layer with 5 units (since there are 5 categories) with a softmax activation.\n",
        "You should also compile your model using an appropriate loss function and optimizer.\n",
        "You can use any architecture you want but keep in mind that this problem doesn't need many layers to be solved successfully. You don't need any layers beside Embedding, GlobalAveragePooling1D and Dense layers but feel free to try out different architectures."
      ],
      "metadata": {
        "id": "sMYUI6M_S9fE"
      }
    },
    {
      "cell_type": "code",
      "source": [
        "# GRADED FUNCTION: create_model\n",
        "def create_model():\n",
        "    \"\"\"\n",
        "    Creates a text classifier model\n",
        "    Returns:\n",
        "      tf.keras Model: the text classifier model\n",
        "    \"\"\"\n",
        "\n",
        "      ### START CODE HERE ###\n",
        "\n",
        "    model =tf.keras.Sequential([\n",
        "        #tf.keras.Input(shape=(120,)),\n",
        "        tf.keras.layers.Embedding(input_dim=VOCAB_SIZE,output_dim=EMBEDDING_DIM,input_length=MAX_LENGTH),\n",
        "        tf.keras.layers.GlobalAveragePooling1D(),\n",
        "        tf.keras.layers.Dense(16,activation='relu'),\n",
        "        tf.keras.layers.Dense(5,activation='softmax')\n",
        "\n",
        "    ])\n",
        "\n",
        "\n",
        "    # Compile the model with appropriate loss, optimizer, and metrics\n",
        "    model.compile(loss='sparse_categorical_crossentropy',optimizer='adam',metrics=['accuracy'])\n",
        "\n",
        "\n",
        "\n",
        "    ### END CODE HERE ###\n",
        "\n",
        "    return model"
      ],
      "metadata": {
        "id": "XNJUFyvuSvWj"
      },
      "execution_count": 97,
      "outputs": []
    },
    {
      "cell_type": "code",
      "source": [
        "# Get the untrained model\n",
        "model =create_model()"
      ],
      "metadata": {
        "id": "7fqibq2oTzCE"
      },
      "execution_count": 98,
      "outputs": []
    },
    {
      "cell_type": "code",
      "source": [
        "example_batch = train_proc_dataset.take(1)\n",
        "\n",
        "try:\n",
        "\tmodel.evaluate(example_batch, verbose=False)\n",
        "except:\n",
        "\tprint(\"Your model is not compatible with the dataset you defined earlier. Check that the loss function and last layer are compatible with one another.\")\n",
        "else:\n",
        "\tpredictions = model.predict(example_batch, verbose=False)\n",
        "\tprint(f\"predictions have shape: {predictions.shape}\")"
      ],
      "metadata": {
        "id": "Ey5NzSWKT1pc",
        "colab": {
          "base_uri": "https://localhost:8080/"
        },
        "outputId": "7c88bc2d-009b-4b0f-c8c7-64572a91de5a"
      },
      "execution_count": 99,
      "outputs": [
        {
          "output_type": "stream",
          "name": "stdout",
          "text": [
            "predictions have shape: (32, 5)\n"
          ]
        }
      ]
    },
    {
      "cell_type": "code",
      "source": [
        "  history = model.fit(train_proc_dataset, epochs=30, validation_data=validation_proc_dataset)"
      ],
      "metadata": {
        "id": "2xrjD-XgUDDG",
        "colab": {
          "base_uri": "https://localhost:8080/"
        },
        "outputId": "fa061098-c3a7-40d2-ab26-13f02bfd723f"
      },
      "execution_count": 100,
      "outputs": [
        {
          "output_type": "stream",
          "name": "stdout",
          "text": [
            "Epoch 1/30\n",
            "\u001b[1m38/38\u001b[0m \u001b[32m━━━━━━━━━━━━━━━━━━━━\u001b[0m\u001b[37m\u001b[0m \u001b[1m3s\u001b[0m 63ms/step - accuracy: 0.2381 - loss: 1.5990 - val_accuracy: 0.2215 - val_loss: 1.5791\n",
            "Epoch 2/30\n",
            "\u001b[1m38/38\u001b[0m \u001b[32m━━━━━━━━━━━━━━━━━━━━\u001b[0m\u001b[37m\u001b[0m \u001b[1m2s\u001b[0m 61ms/step - accuracy: 0.2741 - loss: 1.5542 - val_accuracy: 0.3154 - val_loss: 1.5376\n",
            "Epoch 3/30\n",
            "\u001b[1m38/38\u001b[0m \u001b[32m━━━━━━━━━━━━━━━━━━━━\u001b[0m\u001b[37m\u001b[0m \u001b[1m3s\u001b[0m 84ms/step - accuracy: 0.3182 - loss: 1.4992 - val_accuracy: 0.3087 - val_loss: 1.4851\n",
            "Epoch 4/30\n",
            "\u001b[1m38/38\u001b[0m \u001b[32m━━━━━━━━━━━━━━━━━━━━\u001b[0m\u001b[37m\u001b[0m \u001b[1m2s\u001b[0m 55ms/step - accuracy: 0.3664 - loss: 1.4261 - val_accuracy: 0.3725 - val_loss: 1.4193\n",
            "Epoch 5/30\n",
            "\u001b[1m38/38\u001b[0m \u001b[32m━━━━━━━━━━━━━━━━━━━━\u001b[0m\u001b[37m\u001b[0m \u001b[1m3s\u001b[0m 55ms/step - accuracy: 0.4444 - loss: 1.3324 - val_accuracy: 0.4463 - val_loss: 1.3313\n",
            "Epoch 6/30\n",
            "\u001b[1m38/38\u001b[0m \u001b[32m━━━━━━━━━━━━━━━━━━━━\u001b[0m\u001b[37m\u001b[0m \u001b[1m2s\u001b[0m 55ms/step - accuracy: 0.5452 - loss: 1.2184 - val_accuracy: 0.5436 - val_loss: 1.2206\n",
            "Epoch 7/30\n",
            "\u001b[1m38/38\u001b[0m \u001b[32m━━━━━━━━━━━━━━━━━━━━\u001b[0m\u001b[37m\u001b[0m \u001b[1m3s\u001b[0m 56ms/step - accuracy: 0.6612 - loss: 1.0903 - val_accuracy: 0.7550 - val_loss: 1.0891\n",
            "Epoch 8/30\n",
            "\u001b[1m38/38\u001b[0m \u001b[32m━━━━━━━━━━━━━━━━━━━━\u001b[0m\u001b[37m\u001b[0m \u001b[1m4s\u001b[0m 87ms/step - accuracy: 0.8004 - loss: 0.9487 - val_accuracy: 0.8221 - val_loss: 0.9569\n",
            "Epoch 9/30\n",
            "\u001b[1m38/38\u001b[0m \u001b[32m━━━━━━━━━━━━━━━━━━━━\u001b[0m\u001b[37m\u001b[0m \u001b[1m4s\u001b[0m 56ms/step - accuracy: 0.8792 - loss: 0.8122 - val_accuracy: 0.8591 - val_loss: 0.8338\n",
            "Epoch 10/30\n",
            "\u001b[1m38/38\u001b[0m \u001b[32m━━━━━━━━━━━━━━━━━━━━\u001b[0m\u001b[37m\u001b[0m \u001b[1m3s\u001b[0m 56ms/step - accuracy: 0.9047 - loss: 0.6901 - val_accuracy: 0.8826 - val_loss: 0.7251\n",
            "Epoch 11/30\n",
            "\u001b[1m38/38\u001b[0m \u001b[32m━━━━━━━━━━━━━━━━━━━━\u001b[0m\u001b[37m\u001b[0m \u001b[1m2s\u001b[0m 55ms/step - accuracy: 0.9164 - loss: 0.5844 - val_accuracy: 0.8893 - val_loss: 0.6317\n",
            "Epoch 12/30\n",
            "\u001b[1m38/38\u001b[0m \u001b[32m━━━━━━━━━━━━━━━━━━━━\u001b[0m\u001b[37m\u001b[0m \u001b[1m3s\u001b[0m 81ms/step - accuracy: 0.9279 - loss: 0.4966 - val_accuracy: 0.8926 - val_loss: 0.5522\n",
            "Epoch 13/30\n",
            "\u001b[1m38/38\u001b[0m \u001b[32m━━━━━━━━━━━━━━━━━━━━\u001b[0m\u001b[37m\u001b[0m \u001b[1m4s\u001b[0m 56ms/step - accuracy: 0.9369 - loss: 0.4225 - val_accuracy: 0.8960 - val_loss: 0.4878\n",
            "Epoch 14/30\n",
            "\u001b[1m38/38\u001b[0m \u001b[32m━━━━━━━━━━━━━━━━━━━━\u001b[0m\u001b[37m\u001b[0m \u001b[1m2s\u001b[0m 56ms/step - accuracy: 0.9444 - loss: 0.3621 - val_accuracy: 0.9094 - val_loss: 0.4355\n",
            "Epoch 15/30\n",
            "\u001b[1m38/38\u001b[0m \u001b[32m━━━━━━━━━━━━━━━━━━━━\u001b[0m\u001b[37m\u001b[0m \u001b[1m2s\u001b[0m 55ms/step - accuracy: 0.9549 - loss: 0.3133 - val_accuracy: 0.9094 - val_loss: 0.3931\n",
            "Epoch 16/30\n",
            "\u001b[1m38/38\u001b[0m \u001b[32m━━━━━━━━━━━━━━━━━━━━\u001b[0m\u001b[37m\u001b[0m \u001b[1m3s\u001b[0m 70ms/step - accuracy: 0.9618 - loss: 0.2735 - val_accuracy: 0.9228 - val_loss: 0.3580\n",
            "Epoch 17/30\n",
            "\u001b[1m38/38\u001b[0m \u001b[32m━━━━━━━━━━━━━━━━━━━━\u001b[0m\u001b[37m\u001b[0m \u001b[1m5s\u001b[0m 62ms/step - accuracy: 0.9622 - loss: 0.2406 - val_accuracy: 0.9262 - val_loss: 0.3282\n",
            "Epoch 18/30\n",
            "\u001b[1m38/38\u001b[0m \u001b[32m━━━━━━━━━━━━━━━━━━━━\u001b[0m\u001b[37m\u001b[0m \u001b[1m2s\u001b[0m 55ms/step - accuracy: 0.9699 - loss: 0.2132 - val_accuracy: 0.9329 - val_loss: 0.3029\n",
            "Epoch 19/30\n",
            "\u001b[1m38/38\u001b[0m \u001b[32m━━━━━━━━━━━━━━━━━━━━\u001b[0m\u001b[37m\u001b[0m \u001b[1m2s\u001b[0m 56ms/step - accuracy: 0.9759 - loss: 0.1902 - val_accuracy: 0.9396 - val_loss: 0.2810\n",
            "Epoch 20/30\n",
            "\u001b[1m38/38\u001b[0m \u001b[32m━━━━━━━━━━━━━━━━━━━━\u001b[0m\u001b[37m\u001b[0m \u001b[1m2s\u001b[0m 63ms/step - accuracy: 0.9799 - loss: 0.1707 - val_accuracy: 0.9430 - val_loss: 0.2618\n",
            "Epoch 21/30\n",
            "\u001b[1m38/38\u001b[0m \u001b[32m━━━━━━━━━━━━━━━━━━━━\u001b[0m\u001b[37m\u001b[0m \u001b[1m3s\u001b[0m 81ms/step - accuracy: 0.9799 - loss: 0.1538 - val_accuracy: 0.9597 - val_loss: 0.2450\n",
            "Epoch 22/30\n",
            "\u001b[1m38/38\u001b[0m \u001b[32m━━━━━━━━━━━━━━━━━━━━\u001b[0m\u001b[37m\u001b[0m \u001b[1m2s\u001b[0m 56ms/step - accuracy: 0.9814 - loss: 0.1390 - val_accuracy: 0.9631 - val_loss: 0.2304\n",
            "Epoch 23/30\n",
            "\u001b[1m38/38\u001b[0m \u001b[32m━━━━━━━━━━━━━━━━━━━━\u001b[0m\u001b[37m\u001b[0m \u001b[1m2s\u001b[0m 56ms/step - accuracy: 0.9821 - loss: 0.1260 - val_accuracy: 0.9664 - val_loss: 0.2179\n",
            "Epoch 24/30\n",
            "\u001b[1m38/38\u001b[0m \u001b[32m━━━━━━━━━━━━━━━━━━━━\u001b[0m\u001b[37m\u001b[0m \u001b[1m3s\u001b[0m 56ms/step - accuracy: 0.9846 - loss: 0.1145 - val_accuracy: 0.9664 - val_loss: 0.2072\n",
            "Epoch 25/30\n",
            "\u001b[1m38/38\u001b[0m \u001b[32m━━━━━━━━━━━━━━━━━━━━\u001b[0m\u001b[37m\u001b[0m \u001b[1m3s\u001b[0m 63ms/step - accuracy: 0.9859 - loss: 0.1044 - val_accuracy: 0.9698 - val_loss: 0.1983\n",
            "Epoch 26/30\n",
            "\u001b[1m38/38\u001b[0m \u001b[32m━━━━━━━━━━━━━━━━━━━━\u001b[0m\u001b[37m\u001b[0m \u001b[1m3s\u001b[0m 86ms/step - accuracy: 0.9888 - loss: 0.0953 - val_accuracy: 0.9698 - val_loss: 0.1908\n",
            "Epoch 27/30\n",
            "\u001b[1m38/38\u001b[0m \u001b[32m━━━━━━━━━━━━━━━━━━━━\u001b[0m\u001b[37m\u001b[0m \u001b[1m2s\u001b[0m 56ms/step - accuracy: 0.9903 - loss: 0.0873 - val_accuracy: 0.9698 - val_loss: 0.1847\n",
            "Epoch 28/30\n",
            "\u001b[1m38/38\u001b[0m \u001b[32m━━━━━━━━━━━━━━━━━━━━\u001b[0m\u001b[37m\u001b[0m \u001b[1m2s\u001b[0m 55ms/step - accuracy: 0.9912 - loss: 0.0800 - val_accuracy: 0.9698 - val_loss: 0.1796\n",
            "Epoch 29/30\n",
            "\u001b[1m38/38\u001b[0m \u001b[32m━━━━━━━━━━━━━━━━━━━━\u001b[0m\u001b[37m\u001b[0m \u001b[1m3s\u001b[0m 56ms/step - accuracy: 0.9930 - loss: 0.0736 - val_accuracy: 0.9664 - val_loss: 0.1753\n",
            "Epoch 30/30\n",
            "\u001b[1m38/38\u001b[0m \u001b[32m━━━━━━━━━━━━━━━━━━━━\u001b[0m\u001b[37m\u001b[0m \u001b[1m2s\u001b[0m 62ms/step - accuracy: 0.9933 - loss: 0.0679 - val_accuracy: 0.9631 - val_loss: 0.1718\n"
          ]
        }
      ]
    },
    {
      "cell_type": "code",
      "source": [
        "def plot_graphs(history, metric):\n",
        "    plt.plot(history.history[metric])\n",
        "    plt.plot(history.history[f'val_{metric}'])\n",
        "    plt.xlabel(\"Epochs\")\n",
        "    plt.ylabel(metric)\n",
        "    plt.legend([metric, f'val_{metric}'])\n",
        "    plt.show()\n",
        "print('Name:        Register Number:       ')\n",
        "plot_graphs(history, \"accuracy\")\n",
        "plot_graphs(history, \"loss\")"
      ],
      "metadata": {
        "id": "7NKZZ19xUKtk",
        "colab": {
          "base_uri": "https://localhost:8080/",
          "height": 898
        },
        "outputId": "9f7901ee-1f2a-451f-ea9d-26f197c12a26"
      },
      "execution_count": 101,
      "outputs": [
        {
          "output_type": "stream",
          "name": "stdout",
          "text": [
            "Name:        Register Number:       \n"
          ]
        },
        {
          "output_type": "display_data",
          "data": {
            "text/plain": [
              "<Figure size 640x480 with 1 Axes>"
            ],
            "image/png": "[encoded data removed]"
          },
          "metadata": {}
        },
        {
          "output_type": "display_data",
          "data": {
            "text/plain": [
              "<Figure size 640x480 with 1 Axes>"
            ],
            "image/png": "[encoded data removed]"
          },
          "metadata": {}
        }
      ]
    },
    {
      "cell_type": "code",
      "source": [],
      "metadata": {
        "id": "5EKPvVCGtNso"
      },
      "execution_count": null,
      "outputs": []
    }
  ]
}